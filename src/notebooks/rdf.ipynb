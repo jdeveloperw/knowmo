{
 "cells": [
  {
   "cell_type": "code",
   "execution_count": 12,
   "metadata": {},
   "outputs": [],
   "source": [
    "from pathlib import Path\n",
    "\n",
    "from rdflib import Graph, ConjunctiveGraph"
   ]
  },
  {
   "cell_type": "code",
   "execution_count": 13,
   "metadata": {},
   "outputs": [
    {
     "data": {
      "text/plain": [
       "[PosixPath('src/knowmo/data/people/triangle.trig')]"
      ]
     },
     "execution_count": 13,
     "metadata": {},
     "output_type": "execute_result"
    }
   ],
   "source": [
    "filepaths = list(Path(\"./src/knowmo/data/\").glob(\"**/*.trig\"))\n",
    "filepaths"
   ]
  },
  {
   "cell_type": "code",
   "execution_count": 14,
   "metadata": {},
   "outputs": [],
   "source": [
    "g = ConjunctiveGraph()\n",
    "for filepath in filepaths:\n",
    "    g.parse(filepath)"
   ]
  },
  {
   "cell_type": "code",
   "execution_count": 15,
   "metadata": {},
   "outputs": [
    {
     "data": {
      "text/plain": [
       "[(rdflib.term.URIRef('http://www.example.org/exampleDocument#G1'),\n",
       "  rdflib.term.Literal('2023-08-28T00:00:00-05:00', datatype=rdflib.term.URIRef('http://www.w3.org/2001/XMLSchemadateTime')),\n",
       "  rdflib.term.BNode('na143c9a3d5c84a299fb6dbff365ef013b1'),\n",
       "  rdflib.term.URIRef('http://www.example.org/vocabulary#knowledgeDate')),\n",
       " (rdflib.term.URIRef('http://www.example.org/exampleDocument#G1'),\n",
       "  rdflib.term.URIRef('http://www.example.org/vocabulary#Person'),\n",
       "  rdflib.term.URIRef('http://www.example.org/exampleDocument#Sean'),\n",
       "  rdflib.term.URIRef('http://www.w3.org/1999/02/22-rdf-syntax-ns#type')),\n",
       " (rdflib.term.URIRef('http://www.example.org/exampleDocument#G1'),\n",
       "  rdflib.term.BNode('na143c9a3d5c84a299fb6dbff365ef013b1'),\n",
       "  rdflib.term.URIRef('http://www.example.org/exampleDocument#Sean'),\n",
       "  rdflib.term.URIRef('http://www.example.org/vocabulary#belt')),\n",
       " (rdflib.term.URIRef('http://www.example.org/exampleDocument#G1'),\n",
       "  rdflib.term.Literal('Sean'),\n",
       "  rdflib.term.URIRef('http://www.example.org/exampleDocument#Sean'),\n",
       "  rdflib.term.URIRef('http://www.example.org/vocabulary#firstName')),\n",
       " (rdflib.term.URIRef('http://www.example.org/exampleDocument#G1'),\n",
       "  rdflib.term.Literal('white'),\n",
       "  rdflib.term.BNode('na143c9a3d5c84a299fb6dbff365ef013b1'),\n",
       "  rdflib.term.URIRef('http://www.example.org/vocabulary#rank'))]"
      ]
     },
     "execution_count": 15,
     "metadata": {},
     "output_type": "execute_result"
    }
   ],
   "source": [
    "results = list(g.query(\"\"\"\n",
    "SELECT *\n",
    "WHERE {\n",
    "    GRAPH ?g {\n",
    "        ?s ?p ?o\n",
    "    }\n",
    "}\n",
    "\"\"\"))\n",
    "results"
   ]
  },
  {
   "cell_type": "code",
   "execution_count": null,
   "metadata": {},
   "outputs": [],
   "source": []
  }
 ],
 "metadata": {
  "kernelspec": {
   "display_name": "knowmo-xp9mPgnp-py3.11",
   "language": "python",
   "name": "python3"
  },
  "language_info": {
   "codemirror_mode": {
    "name": "ipython",
    "version": 3
   },
   "file_extension": ".py",
   "mimetype": "text/x-python",
   "name": "python",
   "nbconvert_exporter": "python",
   "pygments_lexer": "ipython3",
   "version": "3.11.5"
  },
  "orig_nbformat": 4
 },
 "nbformat": 4,
 "nbformat_minor": 2
}
